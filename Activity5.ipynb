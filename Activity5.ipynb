{
 "cells": [
  {
   "cell_type": "code",
   "execution_count": 1,
   "id": "782af162-f213-4c67-b9c4-49d5fa0adf9c",
   "metadata": {},
   "outputs": [
    {
     "name": "stdout",
     "output_type": "stream",
     "text": [
      "Defaulting to user installation because normal site-packages is not writeable\n",
      "Requirement already satisfied: numpy in c:\\users\\lab4-studentpc44\\appdata\\local\\packages\\pythonsoftwarefoundation.python.3.13_qbz5n2kfra8p0\\localcache\\local-packages\\python313\\site-packages (2.2.2)\n",
      "Note: you may need to restart the kernel to use updated packages.\n"
     ]
    },
    {
     "name": "stderr",
     "output_type": "stream",
     "text": [
      "\n",
      "[notice] A new release of pip is available: 24.3.1 -> 25.0.1\n",
      "[notice] To update, run: C:\\Users\\LAB4-StudentPC44\\AppData\\Local\\Microsoft\\WindowsApps\\PythonSoftwareFoundation.Python.3.13_qbz5n2kfra8p0\\python.exe -m pip install --upgrade pip\n"
     ]
    }
   ],
   "source": [
    "pip install numpy"
   ]
  },
  {
   "cell_type": "code",
   "execution_count": 2,
   "id": "e6e237da-af06-4624-8dfe-92b1e8869532",
   "metadata": {},
   "outputs": [
    {
     "name": "stdout",
     "output_type": "stream",
     "text": [
      "Defaulting to user installation because normal site-packages is not writeable\n",
      "Requirement already satisfied: seaborn in c:\\users\\lab4-studentpc44\\appdata\\local\\packages\\pythonsoftwarefoundation.python.3.13_qbz5n2kfra8p0\\localcache\\local-packages\\python313\\site-packages (0.13.2)\n",
      "Requirement already satisfied: numpy!=1.24.0,>=1.20 in c:\\users\\lab4-studentpc44\\appdata\\local\\packages\\pythonsoftwarefoundation.python.3.13_qbz5n2kfra8p0\\localcache\\local-packages\\python313\\site-packages (from seaborn) (2.2.2)\n",
      "Requirement already satisfied: pandas>=1.2 in c:\\users\\lab4-studentpc44\\appdata\\local\\packages\\pythonsoftwarefoundation.python.3.13_qbz5n2kfra8p0\\localcache\\local-packages\\python313\\site-packages (from seaborn) (2.2.3)\n",
      "Requirement already satisfied: matplotlib!=3.6.1,>=3.4 in c:\\users\\lab4-studentpc44\\appdata\\local\\packages\\pythonsoftwarefoundation.python.3.13_qbz5n2kfra8p0\\localcache\\local-packages\\python313\\site-packages (from seaborn) (3.10.0)\n",
      "Requirement already satisfied: contourpy>=1.0.1 in c:\\users\\lab4-studentpc44\\appdata\\local\\packages\\pythonsoftwarefoundation.python.3.13_qbz5n2kfra8p0\\localcache\\local-packages\\python313\\site-packages (from matplotlib!=3.6.1,>=3.4->seaborn) (1.3.1)\n",
      "Requirement already satisfied: cycler>=0.10 in c:\\users\\lab4-studentpc44\\appdata\\local\\packages\\pythonsoftwarefoundation.python.3.13_qbz5n2kfra8p0\\localcache\\local-packages\\python313\\site-packages (from matplotlib!=3.6.1,>=3.4->seaborn) (0.12.1)\n",
      "Requirement already satisfied: fonttools>=4.22.0 in c:\\users\\lab4-studentpc44\\appdata\\local\\packages\\pythonsoftwarefoundation.python.3.13_qbz5n2kfra8p0\\localcache\\local-packages\\python313\\site-packages (from matplotlib!=3.6.1,>=3.4->seaborn) (4.55.3)\n",
      "Requirement already satisfied: kiwisolver>=1.3.1 in c:\\users\\lab4-studentpc44\\appdata\\local\\packages\\pythonsoftwarefoundation.python.3.13_qbz5n2kfra8p0\\localcache\\local-packages\\python313\\site-packages (from matplotlib!=3.6.1,>=3.4->seaborn) (1.4.8)\n",
      "Requirement already satisfied: packaging>=20.0 in c:\\users\\lab4-studentpc44\\appdata\\local\\packages\\pythonsoftwarefoundation.python.3.13_qbz5n2kfra8p0\\localcache\\local-packages\\python313\\site-packages (from matplotlib!=3.6.1,>=3.4->seaborn) (24.2)\n",
      "Requirement already satisfied: pillow>=8 in c:\\users\\lab4-studentpc44\\appdata\\local\\packages\\pythonsoftwarefoundation.python.3.13_qbz5n2kfra8p0\\localcache\\local-packages\\python313\\site-packages (from matplotlib!=3.6.1,>=3.4->seaborn) (11.1.0)\n",
      "Requirement already satisfied: pyparsing>=2.3.1 in c:\\users\\lab4-studentpc44\\appdata\\local\\packages\\pythonsoftwarefoundation.python.3.13_qbz5n2kfra8p0\\localcache\\local-packages\\python313\\site-packages (from matplotlib!=3.6.1,>=3.4->seaborn) (3.2.1)\n",
      "Requirement already satisfied: python-dateutil>=2.7 in c:\\users\\lab4-studentpc44\\appdata\\local\\packages\\pythonsoftwarefoundation.python.3.13_qbz5n2kfra8p0\\localcache\\local-packages\\python313\\site-packages (from matplotlib!=3.6.1,>=3.4->seaborn) (2.9.0.post0)\n",
      "Requirement already satisfied: pytz>=2020.1 in c:\\users\\lab4-studentpc44\\appdata\\local\\packages\\pythonsoftwarefoundation.python.3.13_qbz5n2kfra8p0\\localcache\\local-packages\\python313\\site-packages (from pandas>=1.2->seaborn) (2024.2)\n",
      "Requirement already satisfied: tzdata>=2022.7 in c:\\users\\lab4-studentpc44\\appdata\\local\\packages\\pythonsoftwarefoundation.python.3.13_qbz5n2kfra8p0\\localcache\\local-packages\\python313\\site-packages (from pandas>=1.2->seaborn) (2024.2)\n",
      "Requirement already satisfied: six>=1.5 in c:\\users\\lab4-studentpc44\\appdata\\local\\packages\\pythonsoftwarefoundation.python.3.13_qbz5n2kfra8p0\\localcache\\local-packages\\python313\\site-packages (from python-dateutil>=2.7->matplotlib!=3.6.1,>=3.4->seaborn) (1.17.0)\n",
      "Note: you may need to restart the kernel to use updated packages.\n"
     ]
    },
    {
     "name": "stderr",
     "output_type": "stream",
     "text": [
      "\n",
      "[notice] A new release of pip is available: 24.3.1 -> 25.0.1\n",
      "[notice] To update, run: C:\\Users\\LAB4-StudentPC44\\AppData\\Local\\Microsoft\\WindowsApps\\PythonSoftwareFoundation.Python.3.13_qbz5n2kfra8p0\\python.exe -m pip install --upgrade pip\n"
     ]
    }
   ],
   "source": [
    "pip install seaborn"
   ]
  },
  {
   "cell_type": "code",
   "execution_count": 3,
   "id": "8e3f6094-af68-413e-be28-f586b9ae8d55",
   "metadata": {},
   "outputs": [
    {
     "name": "stdout",
     "output_type": "stream",
     "text": [
      "Defaulting to user installation because normal site-packages is not writeable\n",
      "Note: you may need to restart the kernel to use updated packages.\n"
     ]
    },
    {
     "name": "stderr",
     "output_type": "stream",
     "text": [
      "ERROR: Could not find a version that satisfies the requirement matplolib (from versions: none)\n",
      "\n",
      "[notice] A new release of pip is available: 24.3.1 -> 25.0.1\n",
      "[notice] To update, run: C:\\Users\\LAB4-StudentPC44\\AppData\\Local\\Microsoft\\WindowsApps\\PythonSoftwareFoundation.Python.3.13_qbz5n2kfra8p0\\python.exe -m pip install --upgrade pip\n",
      "ERROR: No matching distribution found for matplolib\n"
     ]
    }
   ],
   "source": [
    "pip install matplolib"
   ]
  },
  {
   "cell_type": "code",
   "execution_count": 4,
   "id": "5294b0de-5de4-4f22-92b3-cd1f8860520d",
   "metadata": {},
   "outputs": [
    {
     "name": "stdout",
     "output_type": "stream",
     "text": [
      "Defaulting to user installation because normal site-packages is not writeable\n",
      "Requirement already satisfied: pandas in c:\\users\\lab4-studentpc44\\appdata\\local\\packages\\pythonsoftwarefoundation.python.3.13_qbz5n2kfra8p0\\localcache\\local-packages\\python313\\site-packages (2.2.3)\n",
      "Requirement already satisfied: numpy>=1.26.0 in c:\\users\\lab4-studentpc44\\appdata\\local\\packages\\pythonsoftwarefoundation.python.3.13_qbz5n2kfra8p0\\localcache\\local-packages\\python313\\site-packages (from pandas) (2.2.2)\n",
      "Requirement already satisfied: python-dateutil>=2.8.2 in c:\\users\\lab4-studentpc44\\appdata\\local\\packages\\pythonsoftwarefoundation.python.3.13_qbz5n2kfra8p0\\localcache\\local-packages\\python313\\site-packages (from pandas) (2.9.0.post0)\n",
      "Requirement already satisfied: pytz>=2020.1 in c:\\users\\lab4-studentpc44\\appdata\\local\\packages\\pythonsoftwarefoundation.python.3.13_qbz5n2kfra8p0\\localcache\\local-packages\\python313\\site-packages (from pandas) (2024.2)\n",
      "Requirement already satisfied: tzdata>=2022.7 in c:\\users\\lab4-studentpc44\\appdata\\local\\packages\\pythonsoftwarefoundation.python.3.13_qbz5n2kfra8p0\\localcache\\local-packages\\python313\\site-packages (from pandas) (2024.2)\n",
      "Requirement already satisfied: six>=1.5 in c:\\users\\lab4-studentpc44\\appdata\\local\\packages\\pythonsoftwarefoundation.python.3.13_qbz5n2kfra8p0\\localcache\\local-packages\\python313\\site-packages (from python-dateutil>=2.8.2->pandas) (1.17.0)\n",
      "Note: you may need to restart the kernel to use updated packages.\n"
     ]
    },
    {
     "name": "stderr",
     "output_type": "stream",
     "text": [
      "\n",
      "[notice] A new release of pip is available: 24.3.1 -> 25.0.1\n",
      "[notice] To update, run: C:\\Users\\LAB4-StudentPC44\\AppData\\Local\\Microsoft\\WindowsApps\\PythonSoftwareFoundation.Python.3.13_qbz5n2kfra8p0\\python.exe -m pip install --upgrade pip\n"
     ]
    }
   ],
   "source": [
    "pip install pandas"
   ]
  },
  {
   "cell_type": "code",
   "execution_count": 5,
   "id": "a2c13e23-ce97-4379-af88-e21d164d53e2",
   "metadata": {},
   "outputs": [],
   "source": [
    "import numpy as np\n",
    "import pandas as pd\n",
    "import seaborn as sns\n",
    "import matplotlib.pyplot as plt"
   ]
  },
  {
   "cell_type": "code",
   "execution_count": 6,
   "id": "80bee448-ae90-4cf1-8b29-1e3e885e86f0",
   "metadata": {},
   "outputs": [],
   "source": [
    "import warnings\n",
    "warnings.filterwarnings('ignore')"
   ]
  },
  {
   "cell_type": "code",
   "execution_count": 7,
   "id": "a7a70bc2-c172-4199-9503-44fe898d621a",
   "metadata": {},
   "outputs": [],
   "source": [
    "net_demo = pd.read_csv('datasets\\\\Internet-Demographic.csv')"
   ]
  },
  {
   "cell_type": "code",
   "execution_count": 8,
   "id": "7fd058bc-2cc6-483d-bdc8-33e83e53bc83",
   "metadata": {},
   "outputs": [
    {
     "data": {
      "text/html": [
       "<div>\n",
       "<style scoped>\n",
       "    .dataframe tbody tr th:only-of-type {\n",
       "        vertical-align: middle;\n",
       "    }\n",
       "\n",
       "    .dataframe tbody tr th {\n",
       "        vertical-align: top;\n",
       "    }\n",
       "\n",
       "    .dataframe thead th {\n",
       "        text-align: right;\n",
       "    }\n",
       "</style>\n",
       "<table border=\"1\" class=\"dataframe\">\n",
       "  <thead>\n",
       "    <tr style=\"text-align: right;\">\n",
       "      <th></th>\n",
       "      <th>Country Name</th>\n",
       "      <th>Country Code</th>\n",
       "      <th>Birth rate</th>\n",
       "      <th>Internet users</th>\n",
       "      <th>Income Group</th>\n",
       "    </tr>\n",
       "  </thead>\n",
       "  <tbody>\n",
       "    <tr>\n",
       "      <th>0</th>\n",
       "      <td>Aruba</td>\n",
       "      <td>ABW</td>\n",
       "      <td>10.244</td>\n",
       "      <td>78.9</td>\n",
       "      <td>High income</td>\n",
       "    </tr>\n",
       "    <tr>\n",
       "      <th>1</th>\n",
       "      <td>Afghanistan</td>\n",
       "      <td>AFG</td>\n",
       "      <td>35.253</td>\n",
       "      <td>5.9</td>\n",
       "      <td>Low income</td>\n",
       "    </tr>\n",
       "    <tr>\n",
       "      <th>2</th>\n",
       "      <td>Angola</td>\n",
       "      <td>AGO</td>\n",
       "      <td>45.985</td>\n",
       "      <td>19.1</td>\n",
       "      <td>Upper middle income</td>\n",
       "    </tr>\n",
       "    <tr>\n",
       "      <th>3</th>\n",
       "      <td>Albania</td>\n",
       "      <td>ALB</td>\n",
       "      <td>12.877</td>\n",
       "      <td>57.2</td>\n",
       "      <td>Upper middle income</td>\n",
       "    </tr>\n",
       "    <tr>\n",
       "      <th>4</th>\n",
       "      <td>United Arab Emirates</td>\n",
       "      <td>ARE</td>\n",
       "      <td>11.044</td>\n",
       "      <td>88.0</td>\n",
       "      <td>High income</td>\n",
       "    </tr>\n",
       "    <tr>\n",
       "      <th>...</th>\n",
       "      <td>...</td>\n",
       "      <td>...</td>\n",
       "      <td>...</td>\n",
       "      <td>...</td>\n",
       "      <td>...</td>\n",
       "    </tr>\n",
       "    <tr>\n",
       "      <th>190</th>\n",
       "      <td>Yemen, Rep.</td>\n",
       "      <td>YEM</td>\n",
       "      <td>32.947</td>\n",
       "      <td>20.0</td>\n",
       "      <td>Lower middle income</td>\n",
       "    </tr>\n",
       "    <tr>\n",
       "      <th>191</th>\n",
       "      <td>South Africa</td>\n",
       "      <td>ZAF</td>\n",
       "      <td>20.850</td>\n",
       "      <td>46.5</td>\n",
       "      <td>Upper middle income</td>\n",
       "    </tr>\n",
       "    <tr>\n",
       "      <th>192</th>\n",
       "      <td>Congo, Dem. Rep.</td>\n",
       "      <td>COD</td>\n",
       "      <td>42.394</td>\n",
       "      <td>2.2</td>\n",
       "      <td>Low income</td>\n",
       "    </tr>\n",
       "    <tr>\n",
       "      <th>193</th>\n",
       "      <td>Zambia</td>\n",
       "      <td>ZMB</td>\n",
       "      <td>40.471</td>\n",
       "      <td>15.4</td>\n",
       "      <td>Lower middle income</td>\n",
       "    </tr>\n",
       "    <tr>\n",
       "      <th>194</th>\n",
       "      <td>Zimbabwe</td>\n",
       "      <td>ZWE</td>\n",
       "      <td>35.715</td>\n",
       "      <td>18.5</td>\n",
       "      <td>Low income</td>\n",
       "    </tr>\n",
       "  </tbody>\n",
       "</table>\n",
       "<p>195 rows × 5 columns</p>\n",
       "</div>"
      ],
      "text/plain": [
       "             Country Name Country Code  Birth rate  Internet users  \\\n",
       "0                   Aruba          ABW      10.244            78.9   \n",
       "1             Afghanistan          AFG      35.253             5.9   \n",
       "2                  Angola          AGO      45.985            19.1   \n",
       "3                 Albania          ALB      12.877            57.2   \n",
       "4    United Arab Emirates          ARE      11.044            88.0   \n",
       "..                    ...          ...         ...             ...   \n",
       "190           Yemen, Rep.          YEM      32.947            20.0   \n",
       "191          South Africa          ZAF      20.850            46.5   \n",
       "192      Congo, Dem. Rep.          COD      42.394             2.2   \n",
       "193                Zambia          ZMB      40.471            15.4   \n",
       "194              Zimbabwe          ZWE      35.715            18.5   \n",
       "\n",
       "            Income Group  \n",
       "0            High income  \n",
       "1             Low income  \n",
       "2    Upper middle income  \n",
       "3    Upper middle income  \n",
       "4            High income  \n",
       "..                   ...  \n",
       "190  Lower middle income  \n",
       "191  Upper middle income  \n",
       "192           Low income  \n",
       "193  Lower middle income  \n",
       "194           Low income  \n",
       "\n",
       "[195 rows x 5 columns]"
      ]
     },
     "execution_count": 8,
     "metadata": {},
     "output_type": "execute_result"
    }
   ],
   "source": [
    "net_demo"
   ]
  },
  {
   "cell_type": "code",
   "execution_count": 9,
   "id": "65617643-3c37-4ee4-946d-52bb62faa988",
   "metadata": {},
   "outputs": [
    {
     "data": {
      "text/plain": [
       "Country Name       object\n",
       "Country Code       object\n",
       "Birth rate        float64\n",
       "Internet users    float64\n",
       "Income Group       object\n",
       "dtype: object"
      ]
     },
     "execution_count": 9,
     "metadata": {},
     "output_type": "execute_result"
    }
   ],
   "source": [
    "net_demo.dtypes"
   ]
  },
  {
   "cell_type": "code",
   "execution_count": 10,
   "id": "cbcdc909-f194-4ff0-a89b-9d10db56863b",
   "metadata": {},
   "outputs": [
    {
     "ename": "NameError",
     "evalue": "name 'net' is not defined",
     "output_type": "error",
     "traceback": [
      "\u001b[1;31m---------------------------------------------------------------------------\u001b[0m",
      "\u001b[1;31mNameError\u001b[0m                                 Traceback (most recent call last)",
      "Cell \u001b[1;32mIn[10], line 1\u001b[0m\n\u001b[1;32m----> 1\u001b[0m \u001b[43mnet\u001b[49m\u001b[38;5;241m.\u001b[39mdrop(columns \u001b[38;5;241m=\u001b[39m \u001b[38;5;124m'\u001b[39m\u001b[38;5;124mCountry Code\u001b[39m\u001b[38;5;124m'\u001b[39m, inplace \u001b[38;5;241m=\u001b[39m \u001b[38;5;28;01mTrue\u001b[39;00m)\n",
      "\u001b[1;31mNameError\u001b[0m: name 'net' is not defined"
     ]
    }
   ],
   "source": [
    "net.drop(columns = 'Country Code', inplace = True)"
   ]
  },
  {
   "cell_type": "code",
   "execution_count": null,
   "id": "318843e4-e0cf-498b-ae23-315848f1eb50",
   "metadata": {},
   "outputs": [],
   "source": [
    "net_demo.dtypes"
   ]
  },
  {
   "cell_type": "code",
   "execution_count": null,
   "id": "371185ad-2b83-49ae-a08f-f34bb341ab9a",
   "metadata": {},
   "outputs": [],
   "source": [
    "net_demo['Country Name'] = net_demo['Country Name'].astype('category')\n",
    "net_demo['Income Group'] = net_demo['Income Group'].astype('category')"
   ]
  },
  {
   "cell_type": "code",
   "execution_count": null,
   "id": "208d0065-be09-4727-a4c8-3300e7f60419",
   "metadata": {},
   "outputs": [],
   "source": [
    "net_demo.dtypes"
   ]
  },
  {
   "cell_type": "markdown",
   "id": "caec205e-12d7-4f0f-adec-74779633c92e",
   "metadata": {},
   "source": [
    "<h1>1. Distribution of Birth Rate</h1>"
   ]
  },
  {
   "cell_type": "code",
   "execution_count": null,
   "id": "c513dca4-8533-46dd-8164-095b089431e6",
   "metadata": {},
   "outputs": [],
   "source": [
    "plt.figure(figsize=(10,5))\n",
    "sns.histplot(net['Birth rate'],bins=20,kde=True,color='red')\n",
    "plt.xlabel('Birth rate')\n",
    "plt.ylabel('Frequency')\n",
    "plt.title('Distribution of Birth Rates')\n",
    "plt.show()"
   ]
  },
  {
   "cell_type": "markdown",
   "id": "bdb9b0a8-38cf-451b-821f-df5059d4c825",
   "metadata": {},
   "source": [
    "<h1>Insight No.1</h1>\n",
    "<h2 >The histogram visualizes the distribution of birth rates, highlighting the frequency across different ranges. The KDE curve provides a smooth representation of density, emphasizing trends in birth rate data.</h2>\n"
   ]
  },
  {
   "cell_type": "markdown",
   "id": "76e0d7a7-c521-48ab-8370-b4a0312c88ac",
   "metadata": {},
   "source": [
    "<h1>2. Top 5 Countries with the Highest Internet Usage</h1>"
   ]
  },
  {
   "cell_type": "code",
   "execution_count": 11,
   "id": "f390ff63-c88b-4ec2-8fd4-bde6750dd7c6",
   "metadata": {},
   "outputs": [
    {
     "name": "stdout",
     "output_type": "stream",
     "text": [
      "Top 5 Countries with Highest Internet Usage:\n"
     ]
    },
    {
     "data": {
      "text/html": [
       "<div>\n",
       "<style scoped>\n",
       "    .dataframe tbody tr th:only-of-type {\n",
       "        vertical-align: middle;\n",
       "    }\n",
       "\n",
       "    .dataframe tbody tr th {\n",
       "        vertical-align: top;\n",
       "    }\n",
       "\n",
       "    .dataframe thead th {\n",
       "        text-align: right;\n",
       "    }\n",
       "</style>\n",
       "<table border=\"1\" class=\"dataframe\">\n",
       "  <thead>\n",
       "    <tr style=\"text-align: right;\">\n",
       "      <th></th>\n",
       "      <th>Country Name</th>\n",
       "      <th>Internet users</th>\n",
       "    </tr>\n",
       "  </thead>\n",
       "  <tbody>\n",
       "    <tr>\n",
       "      <th>84</th>\n",
       "      <td>Iceland</td>\n",
       "      <td>96.5468</td>\n",
       "    </tr>\n",
       "    <tr>\n",
       "      <th>22</th>\n",
       "      <td>Bermuda</td>\n",
       "      <td>95.3000</td>\n",
       "    </tr>\n",
       "    <tr>\n",
       "      <th>131</th>\n",
       "      <td>Norway</td>\n",
       "      <td>95.0534</td>\n",
       "    </tr>\n",
       "    <tr>\n",
       "      <th>163</th>\n",
       "      <td>Sweden</td>\n",
       "      <td>94.7836</td>\n",
       "    </tr>\n",
       "    <tr>\n",
       "      <th>47</th>\n",
       "      <td>Denmark</td>\n",
       "      <td>94.6297</td>\n",
       "    </tr>\n",
       "  </tbody>\n",
       "</table>\n",
       "</div>"
      ],
      "text/plain": [
       "    Country Name  Internet users\n",
       "84       Iceland         96.5468\n",
       "22       Bermuda         95.3000\n",
       "131       Norway         95.0534\n",
       "163       Sweden         94.7836\n",
       "47       Denmark         94.6297"
      ]
     },
     "execution_count": 11,
     "metadata": {},
     "output_type": "execute_result"
    }
   ],
   "source": [
    "top_5_internet = net_demo.nlargest(5, \"Internet users\")[[\"Country Name\", \"Internet users\"]]\n",
    "print(\"Top 5 Countries with Highest Internet Usage:\")\n",
    "top_5_internet"
   ]
  },
  {
   "cell_type": "markdown",
   "id": "0cfe9141-8d51-471b-985c-a773248378ab",
   "metadata": {},
   "source": [
    "<h1>3. Count of Countries by Income Group</h1>"
   ]
  },
  {
   "cell_type": "code",
   "execution_count": 12,
   "id": "17d69dfb-9c19-449f-b84f-bfc9bbe7e0f2",
   "metadata": {},
   "outputs": [
    {
     "data": {
      "image/png": "[encoded data removed]",
      "text/plain": [
       "<Figure size 1000x500 with 1 Axes>"
      ]
     },
     "metadata": {},
     "output_type": "display_data"
    }
   ],
   "source": [
    "income_groups = net_demo['Income Group'].value_counts().sort_index()\n",
    "plt.figure(figsize=(10, 5))\n",
    "sns.barplot(x=income_groups.index, y=income_groups.values, palette=\"Reds\")\n",
    "plt.xlabel('Income Group')\n",
    "plt.ylabel('Number of Countries')\n",
    "plt.title('Count of Countries by Income Group')\n",
    "plt.show()"
   ]
  },
  {
   "cell_type": "markdown",
   "id": "2d29f9d4-2f3f-4c2b-b897-c91f07b7a02c",
   "metadata": {},
   "source": [
    "<h2>Insight No. 3</h2>\n",
    "<h2>The plot shows the number of countries in each income group, revealing economic disparities globally.</h2>\n"
   ]
  },
  {
   "cell_type": "markdown",
   "id": "5e34546a-8eb0-4164-860f-788106ea4f9f",
   "metadata": {},
   "source": [
    "<h1>4. Box Plot of Internet Usage</h1>"
   ]
  },
  {
   "cell_type": "code",
   "execution_count": 13,
   "id": "0929a02d-e8cf-48b6-8c60-ff1071b23ac4",
   "metadata": {},
   "outputs": [
    {
     "data": {
      "image/png": "[encoded data removed]",
      "text/plain": [
       "<Figure size 1000x600 with 1 Axes>"
      ]
     },
     "metadata": {},
     "output_type": "display_data"
    }
   ],
   "source": [
    "plt.figure(figsize=(10, 6))\n",
    "sns.boxplot(data=net_demo[[\"Internet users\", \"Birth rate\"]], palette=[\"lightblue\", \"lightcoral\"])\n",
    "plt.ylabel(\"Value\")\n",
    "plt.title(\"Box Plot of Internet Usage and Birth Rate\")\n",
    "plt.grid(axis='y')\n",
    "plt.xticks(ticks=[0, 1], labels=[\"Internet Usage (%)\", \"Birth Rate\"])\n",
    "plt.show()"
   ]
  },
  {
   "cell_type": "markdown",
   "id": "b6a353ab-fb21-44f6-8e8b-a8f63ad2b3c3",
   "metadata": {},
   "source": [
    "<h1>Insight No. 4</h1>\n",
    "<h2>Some countries have very low internet access compared to the rest.</h2>\n"
   ]
  },
  {
   "cell_type": "markdown",
   "id": "741145c2-5f8f-49b2-b8bf-d783f9248244",
   "metadata": {},
   "source": [
    "<h1>5.Countries with No Internet Access</h1>"
   ]
  },
  {
   "cell_type": "code",
   "execution_count": 14,
   "id": "bdbed7e6-14fb-41da-88cb-e0f13e8562f0",
   "metadata": {},
   "outputs": [
    {
     "name": "stdout",
     "output_type": "stream",
     "text": [
      "Countries with No Internet Access:\n",
      "Empty DataFrame\n",
      "Columns: [Country Name]\n",
      "Index: []\n"
     ]
    }
   ],
   "source": [
    "no_internet = net_demo[net_demo[\"Internet users\"] == 0][[\"Country Name\"]]\n",
    "print(\"Countries with No Internet Access:\")\n",
    "print(no_internet)"
   ]
  },
  {
   "cell_type": "markdown",
   "id": "aa005d48-82ca-4a18-a8b9-e8d2322987bb",
   "metadata": {},
   "source": [
    "<h1>Insight No.5</h1>\n",
    "<h2>A small number of countries still have no internet at all.</h2>"
   ]
  },
  {
   "cell_type": "markdown",
   "id": "a2c9c970-ad3f-4de4-b0a4-5cf87a362ce7",
   "metadata": {},
   "source": [
    "<h1>6. Average Birth Rate</h1>"
   ]
  },
  {
   "cell_type": "code",
   "execution_count": 15,
   "id": "be3d99c1-2bd6-4138-80d4-78b12702bd96",
   "metadata": {},
   "outputs": [
    {
     "name": "stdout",
     "output_type": "stream",
     "text": [
      "Average Birth Rate: 21.47\n"
     ]
    }
   ],
   "source": [
    "average_birth_rate = net_demo[\"Birth rate\"].mean()\n",
    "print(\"Average Birth Rate:\", round(average_birth_rate, 2))"
   ]
  },
  {
   "cell_type": "markdown",
   "id": "7223e62a-af8b-4917-9b1d-be8deaf59e78",
   "metadata": {},
   "source": [
    "<h1>Insight No. 6</h1>\n",
    "<h2>The average birth rate is about 21 per 1,000 people.</h2>\n"
   ]
  },
  {
   "cell_type": "markdown",
   "id": "8d290403-ec6a-4b60-a2a9-bf93f026bfb3",
   "metadata": {},
   "source": [
    "<h1>7. Scatter Plot: Birth Rate vs. Internet</h1>"
   ]
  },
  {
   "cell_type": "code",
   "execution_count": 16,
   "id": "06950ff3-9672-47ab-9c0f-587d0bb13b0c",
   "metadata": {},
   "outputs": [
    {
     "data": {
      "image/png": "[encoded data removed]",
      "text/plain": [
       "<Figure size 1000x500 with 1 Axes>"
      ]
     },
     "metadata": {},
     "output_type": "display_data"
    }
   ],
   "source": [
    "plt.figure(figsize=(10, 5))\n",
    "plt.scatter(net_demo['Internet users'], net_demo['Birth rate'], color='red')\n",
    "plt.xlabel('Internet users')\n",
    "plt.ylabel('Birth rate')\n",
    "plt.title('Scatter Plot of Internet Users vs Birth Rate')\n",
    "plt.show()"
   ]
  },
  {
   "cell_type": "markdown",
   "id": "2f335129-2123-41e6-b30b-1b4f3b70362b",
   "metadata": {},
   "source": [
    "<h1 >Insight No. 7</h1>\n",
    "<h2>\n",
    "This scatter plot focuses on exploring the link between internet usage and birth rates. It might show whether increased internet adoption aligns with lower birth rates or if no trend exists, offering insights into how these factors relate.\n",
    "</h2>\n"
   ]
  },
  {
   "cell_type": "markdown",
   "id": "3f5d0199-41c4-4af9-ad39-1a817e2ad41e",
   "metadata": {},
   "source": [
    "<h1>8. Countries with Birth Rates Above 40</h1>"
   ]
  },
  {
   "cell_type": "code",
   "execution_count": 17,
   "id": "72575c08-92b0-4e57-97bb-c2a8b73d3615",
   "metadata": {},
   "outputs": [
    {
     "name": "stdout",
     "output_type": "stream",
     "text": [
      "Countries with Birth Rates Above 40:\n",
      "         Country Name  Birth rate\n",
      "2              Angola      45.985\n",
      "11            Burundi      44.151\n",
      "14       Burkina Faso      40.551\n",
      "65        Gambia, The      42.525\n",
      "115              Mali      44.138\n",
      "127             Niger      49.661\n",
      "128           Nigeria      40.045\n",
      "156           Somalia      43.891\n",
      "167              Chad      45.745\n",
      "178            Uganda      43.474\n",
      "192  Congo, Dem. Rep.      42.394\n",
      "193            Zambia      40.471\n"
     ]
    }
   ],
   "source": [
    "high_birth_rate_countries = net_demo[net_demo[\"Birth rate\"] > 40][[\"Country Name\", \"Birth rate\"]]\n",
    "print(\"Countries with Birth Rates Above 40:\")\n",
    "print(high_birth_rate_countries)"
   ]
  },
  {
   "cell_type": "markdown",
   "id": "75fc941f-2b36-4ac6-84e7-4eb752d4073b",
   "metadata": {},
   "source": [
    "<h1>Insight No. 8</h1>\n",
    "<h2>The dataset shows that only a few countries have birth rates above 40 per 1,000 people, mostly in lower-income groups with limited internet access. </h2>\n"
   ]
  },
  {
   "cell_type": "markdown",
   "id": "6596d62a-a742-4ca0-b9c0-e0ddba58e7fa",
   "metadata": {},
   "source": [
    "<h1>9. Pie Chart of Income Groups</h1>"
   ]
  },
  {
   "cell_type": "code",
   "execution_count": 18,
   "id": "3dddaf2e-be58-4583-88ea-d17e4b860a7f",
   "metadata": {},
   "outputs": [
    {
     "data": {
      "image/png": "[encoded data removed]",
      "text/plain": [
       "<Figure size 1000x700 with 1 Axes>"
      ]
     },
     "metadata": {},
     "output_type": "display_data"
    }
   ],
   "source": [
    "plt.figure(figsize=(10, 7))\n",
    "income = net_demo.groupby(['Income Group']).size()\n",
    "colors = ['lightcoral', 'indianred', 'firebrick', 'darkred', 'red']\n",
    "plt.pie(income, autopct='%1.1f%%', labels=net_demo['Income Group'].unique(), colors=colors)\n",
    "plt.legend(net_demo['Income Group'].unique(), title=\"Income Groups\", loc=\"upper left\", bbox_to_anchor=(1, 1))\n",
    "plt.tight_layout()\n",
    "plt.show()"
   ]
  },
  {
   "cell_type": "markdown",
   "id": "fc879af0-31e3-4b64-9781-6b2d0368aea0",
   "metadata": {},
   "source": [
    "<h1>Insight No.9</h1>\n",
    "\n",
    "<h2>\n",
    "    The pie chart highlights the dominant income group in the dataset, showcasing which category has the largest proportion of individuals. This insight is crucial for understanding the majority demographic and can guide decisions or strategies tailored to this specific group.\n",
    "</h2>\n"
   ]
  },
  {
   "cell_type": "markdown",
   "id": "ea38e436-fc86-4e41-a100-ebdbfc04fead",
   "metadata": {},
   "source": [
    "<h1>10. Correlation Between Brith Rate and Internet Usage</h1>"
   ]
  },
  {
   "cell_type": "code",
   "execution_count": 19,
   "id": "901265e8-0e1b-4cc1-99da-ca1eede14dcf",
   "metadata": {},
   "outputs": [
    {
     "name": "stdout",
     "output_type": "stream",
     "text": [
      "-0.8155885551284765\n"
     ]
    }
   ],
   "source": [
    "corr_result = net_demo['Internet users'].corr(net_demo['Birth rate'])\n",
    "print(corr_result)"
   ]
  },
  {
   "cell_type": "markdown",
   "id": "98c315f3-e0e3-429d-b472-0937b3f4eb95",
   "metadata": {},
   "source": [
    "<h2>\n",
    "There is no correlation between birth rate and internet usage\n",
    "</h2>"
   ]
  },
  {
   "cell_type": "code",
   "execution_count": null,
   "id": "4d482e39-cbbe-46e2-b04d-935b9fe29823",
   "metadata": {},
   "outputs": [],
   "source": []
  }
 ],
 "metadata": {
  "kernelspec": {
   "display_name": "Python 3 (ipykernel)",
   "language": "python",
   "name": "python3"
  },
  "language_info": {
   "codemirror_mode": {
    "name": "ipython",
    "version": 3
   },
   "file_extension": ".py",
   "mimetype": "text/x-python",
   "name": "python",
   "nbconvert_exporter": "python",
   "pygments_lexer": "ipython3",
   "version": "3.13.2"
  }
 },
 "nbformat": 4,
 "nbformat_minor": 5
}
