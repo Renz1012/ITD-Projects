{
 "cells": [
  {
   "cell_type": "code",
   "execution_count": 1,
   "id": "ea798f4d-f1b6-4cf0-af7b-fd0e81ff1bf9",
   "metadata": {},
   "outputs": [],
   "source": [
    "import numpy as np\n",
    "import pandas as pd\n",
    "import seaborn as sns\n",
    "import matplotlib.pyplot as plt"
   ]
  },
  {
   "cell_type": "code",
   "execution_count": 2,
   "id": "04d97134-0395-410c-b7b7-b07ccbbab114",
   "metadata": {},
   "outputs": [],
   "source": [
    "import pandas as pd\n",
    "accident = pd.read_csv('datasets\\\\accident_data.csv')"
   ]
  },
  {
   "cell_type": "code",
   "execution_count": 3,
   "id": "195f9187-c807-4086-98b1-65dfb4ffa6f6",
   "metadata": {},
   "outputs": [
    {
     "data": {
      "text/html": [
       "<div>\n",
       "<style scoped>\n",
       "    .dataframe tbody tr th:only-of-type {\n",
       "        vertical-align: middle;\n",
       "    }\n",
       "\n",
       "    .dataframe tbody tr th {\n",
       "        vertical-align: top;\n",
       "    }\n",
       "\n",
       "    .dataframe thead th {\n",
       "        text-align: right;\n",
       "    }\n",
       "</style>\n",
       "<table border=\"1\" class=\"dataframe\">\n",
       "  <thead>\n",
       "    <tr style=\"text-align: right;\">\n",
       "      <th></th>\n",
       "      <th>Index</th>\n",
       "      <th>Accident_Severity</th>\n",
       "      <th>Accident Date</th>\n",
       "      <th>Latitude</th>\n",
       "      <th>Light_Conditions</th>\n",
       "      <th>District Area</th>\n",
       "      <th>Longitude</th>\n",
       "      <th>Number_of_Casualties</th>\n",
       "      <th>Number_of_Vehicles</th>\n",
       "      <th>Road_Surface_Conditions</th>\n",
       "      <th>Road_Type</th>\n",
       "      <th>Urban_or_Rural_Area</th>\n",
       "      <th>Weather_Conditions</th>\n",
       "      <th>Vehicle_Type</th>\n",
       "    </tr>\n",
       "  </thead>\n",
       "  <tbody>\n",
       "    <tr>\n",
       "      <th>0</th>\n",
       "      <td>200701BS64157</td>\n",
       "      <td>Serious</td>\n",
       "      <td>5/6/2019</td>\n",
       "      <td>51.506187</td>\n",
       "      <td>Darkness - lights lit</td>\n",
       "      <td>Kensington and Chelsea</td>\n",
       "      <td>-0.209082</td>\n",
       "      <td>1</td>\n",
       "      <td>2</td>\n",
       "      <td>Dry</td>\n",
       "      <td>Single carriageway</td>\n",
       "      <td>Urban</td>\n",
       "      <td>Fine no high winds</td>\n",
       "      <td>Car</td>\n",
       "    </tr>\n",
       "    <tr>\n",
       "      <th>1</th>\n",
       "      <td>200701BS65737</td>\n",
       "      <td>Serious</td>\n",
       "      <td>2/7/2019</td>\n",
       "      <td>51.495029</td>\n",
       "      <td>Daylight</td>\n",
       "      <td>Kensington and Chelsea</td>\n",
       "      <td>-0.173647</td>\n",
       "      <td>1</td>\n",
       "      <td>2</td>\n",
       "      <td>Wet or damp</td>\n",
       "      <td>Single carriageway</td>\n",
       "      <td>Urban</td>\n",
       "      <td>Raining no high winds</td>\n",
       "      <td>Car</td>\n",
       "    </tr>\n",
       "    <tr>\n",
       "      <th>2</th>\n",
       "      <td>200701BS66127</td>\n",
       "      <td>Serious</td>\n",
       "      <td>26-08-2019</td>\n",
       "      <td>51.517715</td>\n",
       "      <td>Darkness - lighting unknown</td>\n",
       "      <td>Kensington and Chelsea</td>\n",
       "      <td>-0.210215</td>\n",
       "      <td>1</td>\n",
       "      <td>3</td>\n",
       "      <td>Dry</td>\n",
       "      <td>NaN</td>\n",
       "      <td>Urban</td>\n",
       "      <td>NaN</td>\n",
       "      <td>Taxi/Private hire car</td>\n",
       "    </tr>\n",
       "    <tr>\n",
       "      <th>3</th>\n",
       "      <td>200701BS66128</td>\n",
       "      <td>Serious</td>\n",
       "      <td>16-08-2019</td>\n",
       "      <td>51.495478</td>\n",
       "      <td>Daylight</td>\n",
       "      <td>Kensington and Chelsea</td>\n",
       "      <td>-0.202731</td>\n",
       "      <td>1</td>\n",
       "      <td>4</td>\n",
       "      <td>Dry</td>\n",
       "      <td>Single carriageway</td>\n",
       "      <td>Urban</td>\n",
       "      <td>Fine no high winds</td>\n",
       "      <td>Bus or coach (17 or more pass seats)</td>\n",
       "    </tr>\n",
       "    <tr>\n",
       "      <th>4</th>\n",
       "      <td>200701BS66837</td>\n",
       "      <td>Slight</td>\n",
       "      <td>3/9/2019</td>\n",
       "      <td>51.488576</td>\n",
       "      <td>Darkness - lights lit</td>\n",
       "      <td>Kensington and Chelsea</td>\n",
       "      <td>-0.192487</td>\n",
       "      <td>1</td>\n",
       "      <td>2</td>\n",
       "      <td>Dry</td>\n",
       "      <td>NaN</td>\n",
       "      <td>Urban</td>\n",
       "      <td>NaN</td>\n",
       "      <td>Other vehicle</td>\n",
       "    </tr>\n",
       "    <tr>\n",
       "      <th>...</th>\n",
       "      <td>...</td>\n",
       "      <td>...</td>\n",
       "      <td>...</td>\n",
       "      <td>...</td>\n",
       "      <td>...</td>\n",
       "      <td>...</td>\n",
       "      <td>...</td>\n",
       "      <td>...</td>\n",
       "      <td>...</td>\n",
       "      <td>...</td>\n",
       "      <td>...</td>\n",
       "      <td>...</td>\n",
       "      <td>...</td>\n",
       "      <td>...</td>\n",
       "    </tr>\n",
       "    <tr>\n",
       "      <th>660674</th>\n",
       "      <td>201091NM01760</td>\n",
       "      <td>Slight</td>\n",
       "      <td>18-02-2022</td>\n",
       "      <td>57.374005</td>\n",
       "      <td>Daylight</td>\n",
       "      <td>Highland</td>\n",
       "      <td>-3.467828</td>\n",
       "      <td>2</td>\n",
       "      <td>1</td>\n",
       "      <td>Dry</td>\n",
       "      <td>Single carriageway</td>\n",
       "      <td>Rural</td>\n",
       "      <td>Fine no high winds</td>\n",
       "      <td>Car</td>\n",
       "    </tr>\n",
       "    <tr>\n",
       "      <th>660675</th>\n",
       "      <td>201091NM01881</td>\n",
       "      <td>Slight</td>\n",
       "      <td>21-02-2022</td>\n",
       "      <td>57.232273</td>\n",
       "      <td>Darkness - no lighting</td>\n",
       "      <td>Highland</td>\n",
       "      <td>-3.809281</td>\n",
       "      <td>1</td>\n",
       "      <td>1</td>\n",
       "      <td>Frost or ice</td>\n",
       "      <td>Single carriageway</td>\n",
       "      <td>Rural</td>\n",
       "      <td>Fine no high winds</td>\n",
       "      <td>Car</td>\n",
       "    </tr>\n",
       "    <tr>\n",
       "      <th>660676</th>\n",
       "      <td>201091NM01935</td>\n",
       "      <td>Slight</td>\n",
       "      <td>23-02-2022</td>\n",
       "      <td>57.585044</td>\n",
       "      <td>Daylight</td>\n",
       "      <td>Highland</td>\n",
       "      <td>-3.862727</td>\n",
       "      <td>1</td>\n",
       "      <td>3</td>\n",
       "      <td>Frost or ice</td>\n",
       "      <td>Single carriageway</td>\n",
       "      <td>Rural</td>\n",
       "      <td>Fine no high winds</td>\n",
       "      <td>Car</td>\n",
       "    </tr>\n",
       "    <tr>\n",
       "      <th>660677</th>\n",
       "      <td>201091NM01964</td>\n",
       "      <td>Serious</td>\n",
       "      <td>23-02-2022</td>\n",
       "      <td>57.214898</td>\n",
       "      <td>Darkness - no lighting</td>\n",
       "      <td>Highland</td>\n",
       "      <td>-3.823997</td>\n",
       "      <td>1</td>\n",
       "      <td>2</td>\n",
       "      <td>Wet or damp</td>\n",
       "      <td>Single carriageway</td>\n",
       "      <td>Rural</td>\n",
       "      <td>Fine no high winds</td>\n",
       "      <td>Motorcycle over 500cc</td>\n",
       "    </tr>\n",
       "    <tr>\n",
       "      <th>660678</th>\n",
       "      <td>201091NM02142</td>\n",
       "      <td>Serious</td>\n",
       "      <td>28-02-2022</td>\n",
       "      <td>57.575210</td>\n",
       "      <td>Daylight</td>\n",
       "      <td>Highland</td>\n",
       "      <td>-3.895673</td>\n",
       "      <td>1</td>\n",
       "      <td>1</td>\n",
       "      <td>Wet or damp</td>\n",
       "      <td>Dual carriageway</td>\n",
       "      <td>Rural</td>\n",
       "      <td>Snowing no high winds</td>\n",
       "      <td>Car</td>\n",
       "    </tr>\n",
       "  </tbody>\n",
       "</table>\n",
       "<p>660679 rows × 14 columns</p>\n",
       "</div>"
      ],
      "text/plain": [
       "                Index Accident_Severity Accident Date   Latitude  \\\n",
       "0       200701BS64157           Serious      5/6/2019  51.506187   \n",
       "1       200701BS65737           Serious      2/7/2019  51.495029   \n",
       "2       200701BS66127           Serious    26-08-2019  51.517715   \n",
       "3       200701BS66128           Serious    16-08-2019  51.495478   \n",
       "4       200701BS66837            Slight      3/9/2019  51.488576   \n",
       "...               ...               ...           ...        ...   \n",
       "660674  201091NM01760            Slight    18-02-2022  57.374005   \n",
       "660675  201091NM01881            Slight    21-02-2022  57.232273   \n",
       "660676  201091NM01935            Slight    23-02-2022  57.585044   \n",
       "660677  201091NM01964           Serious    23-02-2022  57.214898   \n",
       "660678  201091NM02142           Serious    28-02-2022  57.575210   \n",
       "\n",
       "                   Light_Conditions           District Area  Longitude  \\\n",
       "0             Darkness - lights lit  Kensington and Chelsea  -0.209082   \n",
       "1                          Daylight  Kensington and Chelsea  -0.173647   \n",
       "2       Darkness - lighting unknown  Kensington and Chelsea  -0.210215   \n",
       "3                          Daylight  Kensington and Chelsea  -0.202731   \n",
       "4             Darkness - lights lit  Kensington and Chelsea  -0.192487   \n",
       "...                             ...                     ...        ...   \n",
       "660674                     Daylight                Highland  -3.467828   \n",
       "660675       Darkness - no lighting                Highland  -3.809281   \n",
       "660676                     Daylight                Highland  -3.862727   \n",
       "660677       Darkness - no lighting                Highland  -3.823997   \n",
       "660678                     Daylight                Highland  -3.895673   \n",
       "\n",
       "        Number_of_Casualties  Number_of_Vehicles Road_Surface_Conditions  \\\n",
       "0                          1                   2                     Dry   \n",
       "1                          1                   2             Wet or damp   \n",
       "2                          1                   3                     Dry   \n",
       "3                          1                   4                     Dry   \n",
       "4                          1                   2                     Dry   \n",
       "...                      ...                 ...                     ...   \n",
       "660674                     2                   1                     Dry   \n",
       "660675                     1                   1            Frost or ice   \n",
       "660676                     1                   3            Frost or ice   \n",
       "660677                     1                   2             Wet or damp   \n",
       "660678                     1                   1             Wet or damp   \n",
       "\n",
       "                 Road_Type Urban_or_Rural_Area     Weather_Conditions  \\\n",
       "0       Single carriageway               Urban     Fine no high winds   \n",
       "1       Single carriageway               Urban  Raining no high winds   \n",
       "2                      NaN               Urban                    NaN   \n",
       "3       Single carriageway               Urban     Fine no high winds   \n",
       "4                      NaN               Urban                    NaN   \n",
       "...                    ...                 ...                    ...   \n",
       "660674  Single carriageway               Rural     Fine no high winds   \n",
       "660675  Single carriageway               Rural     Fine no high winds   \n",
       "660676  Single carriageway               Rural     Fine no high winds   \n",
       "660677  Single carriageway               Rural     Fine no high winds   \n",
       "660678    Dual carriageway               Rural  Snowing no high winds   \n",
       "\n",
       "                                Vehicle_Type  \n",
       "0                                        Car  \n",
       "1                                        Car  \n",
       "2                      Taxi/Private hire car  \n",
       "3       Bus or coach (17 or more pass seats)  \n",
       "4                              Other vehicle  \n",
       "...                                      ...  \n",
       "660674                                   Car  \n",
       "660675                                   Car  \n",
       "660676                                   Car  \n",
       "660677                 Motorcycle over 500cc  \n",
       "660678                                   Car  \n",
       "\n",
       "[660679 rows x 14 columns]"
      ]
     },
     "execution_count": 3,
     "metadata": {},
     "output_type": "execute_result"
    }
   ],
   "source": [
    "accident"
   ]
  },
  {
   "cell_type": "code",
   "execution_count": 4,
   "id": "bb6ae7ae-2f4e-41e5-9a0b-ec343ca16583",
   "metadata": {},
   "outputs": [
    {
     "data": {
      "text/plain": [
       "<bound method DataFrame.info of                 Index Accident_Severity Accident Date   Latitude  \\\n",
       "0       200701BS64157           Serious      5/6/2019  51.506187   \n",
       "1       200701BS65737           Serious      2/7/2019  51.495029   \n",
       "2       200701BS66127           Serious    26-08-2019  51.517715   \n",
       "3       200701BS66128           Serious    16-08-2019  51.495478   \n",
       "4       200701BS66837            Slight      3/9/2019  51.488576   \n",
       "...               ...               ...           ...        ...   \n",
       "660674  201091NM01760            Slight    18-02-2022  57.374005   \n",
       "660675  201091NM01881            Slight    21-02-2022  57.232273   \n",
       "660676  201091NM01935            Slight    23-02-2022  57.585044   \n",
       "660677  201091NM01964           Serious    23-02-2022  57.214898   \n",
       "660678  201091NM02142           Serious    28-02-2022  57.575210   \n",
       "\n",
       "                   Light_Conditions           District Area  Longitude  \\\n",
       "0             Darkness - lights lit  Kensington and Chelsea  -0.209082   \n",
       "1                          Daylight  Kensington and Chelsea  -0.173647   \n",
       "2       Darkness - lighting unknown  Kensington and Chelsea  -0.210215   \n",
       "3                          Daylight  Kensington and Chelsea  -0.202731   \n",
       "4             Darkness - lights lit  Kensington and Chelsea  -0.192487   \n",
       "...                             ...                     ...        ...   \n",
       "660674                     Daylight                Highland  -3.467828   \n",
       "660675       Darkness - no lighting                Highland  -3.809281   \n",
       "660676                     Daylight                Highland  -3.862727   \n",
       "660677       Darkness - no lighting                Highland  -3.823997   \n",
       "660678                     Daylight                Highland  -3.895673   \n",
       "\n",
       "        Number_of_Casualties  Number_of_Vehicles Road_Surface_Conditions  \\\n",
       "0                          1                   2                     Dry   \n",
       "1                          1                   2             Wet or damp   \n",
       "2                          1                   3                     Dry   \n",
       "3                          1                   4                     Dry   \n",
       "4                          1                   2                     Dry   \n",
       "...                      ...                 ...                     ...   \n",
       "660674                     2                   1                     Dry   \n",
       "660675                     1                   1            Frost or ice   \n",
       "660676                     1                   3            Frost or ice   \n",
       "660677                     1                   2             Wet or damp   \n",
       "660678                     1                   1             Wet or damp   \n",
       "\n",
       "                 Road_Type Urban_or_Rural_Area     Weather_Conditions  \\\n",
       "0       Single carriageway               Urban     Fine no high winds   \n",
       "1       Single carriageway               Urban  Raining no high winds   \n",
       "2                      NaN               Urban                    NaN   \n",
       "3       Single carriageway               Urban     Fine no high winds   \n",
       "4                      NaN               Urban                    NaN   \n",
       "...                    ...                 ...                    ...   \n",
       "660674  Single carriageway               Rural     Fine no high winds   \n",
       "660675  Single carriageway               Rural     Fine no high winds   \n",
       "660676  Single carriageway               Rural     Fine no high winds   \n",
       "660677  Single carriageway               Rural     Fine no high winds   \n",
       "660678    Dual carriageway               Rural  Snowing no high winds   \n",
       "\n",
       "                                Vehicle_Type  \n",
       "0                                        Car  \n",
       "1                                        Car  \n",
       "2                      Taxi/Private hire car  \n",
       "3       Bus or coach (17 or more pass seats)  \n",
       "4                              Other vehicle  \n",
       "...                                      ...  \n",
       "660674                                   Car  \n",
       "660675                                   Car  \n",
       "660676                                   Car  \n",
       "660677                 Motorcycle over 500cc  \n",
       "660678                                   Car  \n",
       "\n",
       "[660679 rows x 14 columns]>"
      ]
     },
     "execution_count": 4,
     "metadata": {},
     "output_type": "execute_result"
    }
   ],
   "source": [
    "accident.info"
   ]
  },
  {
   "cell_type": "code",
   "execution_count": 5,
   "id": "ecf70a92-f65d-45f2-a953-a0020e40a7db",
   "metadata": {},
   "outputs": [
    {
     "data": {
      "text/plain": [
       "Index                          0\n",
       "Accident_Severity              0\n",
       "Accident Date                  0\n",
       "Latitude                      25\n",
       "Light_Conditions               0\n",
       "District Area                  0\n",
       "Longitude                     26\n",
       "Number_of_Casualties           0\n",
       "Number_of_Vehicles             0\n",
       "Road_Surface_Conditions      726\n",
       "Road_Type                   4520\n",
       "Urban_or_Rural_Area           15\n",
       "Weather_Conditions         14128\n",
       "Vehicle_Type                   0\n",
       "dtype: int64"
      ]
     },
     "execution_count": 5,
     "metadata": {},
     "output_type": "execute_result"
    }
   ],
   "source": [
    "accident.isnull().sum()"
   ]
  },
  {
   "cell_type": "code",
   "execution_count": 6,
   "id": "902bf9ad-9462-474f-b5c7-b606cfb2eea7",
   "metadata": {},
   "outputs": [
    {
     "data": {
      "text/html": [
       "<div>\n",
       "<style scoped>\n",
       "    .dataframe tbody tr th:only-of-type {\n",
       "        vertical-align: middle;\n",
       "    }\n",
       "\n",
       "    .dataframe tbody tr th {\n",
       "        vertical-align: top;\n",
       "    }\n",
       "\n",
       "    .dataframe thead th {\n",
       "        text-align: right;\n",
       "    }\n",
       "</style>\n",
       "<table border=\"1\" class=\"dataframe\">\n",
       "  <thead>\n",
       "    <tr style=\"text-align: right;\">\n",
       "      <th></th>\n",
       "      <th>Latitude</th>\n",
       "      <th>Longitude</th>\n",
       "      <th>Number_of_Casualties</th>\n",
       "      <th>Number_of_Vehicles</th>\n",
       "    </tr>\n",
       "  </thead>\n",
       "  <tbody>\n",
       "    <tr>\n",
       "      <th>count</th>\n",
       "      <td>660654.000000</td>\n",
       "      <td>660653.000000</td>\n",
       "      <td>660679.000000</td>\n",
       "      <td>660679.000000</td>\n",
       "    </tr>\n",
       "    <tr>\n",
       "      <th>mean</th>\n",
       "      <td>52.553866</td>\n",
       "      <td>-1.431210</td>\n",
       "      <td>1.357040</td>\n",
       "      <td>1.831255</td>\n",
       "    </tr>\n",
       "    <tr>\n",
       "      <th>std</th>\n",
       "      <td>1.406922</td>\n",
       "      <td>1.383330</td>\n",
       "      <td>0.824847</td>\n",
       "      <td>0.715269</td>\n",
       "    </tr>\n",
       "    <tr>\n",
       "      <th>min</th>\n",
       "      <td>49.914430</td>\n",
       "      <td>-7.516225</td>\n",
       "      <td>1.000000</td>\n",
       "      <td>1.000000</td>\n",
       "    </tr>\n",
       "    <tr>\n",
       "      <th>25%</th>\n",
       "      <td>51.490690</td>\n",
       "      <td>-2.332291</td>\n",
       "      <td>1.000000</td>\n",
       "      <td>1.000000</td>\n",
       "    </tr>\n",
       "    <tr>\n",
       "      <th>50%</th>\n",
       "      <td>52.315641</td>\n",
       "      <td>-1.411667</td>\n",
       "      <td>1.000000</td>\n",
       "      <td>2.000000</td>\n",
       "    </tr>\n",
       "    <tr>\n",
       "      <th>75%</th>\n",
       "      <td>53.453452</td>\n",
       "      <td>-0.232869</td>\n",
       "      <td>1.000000</td>\n",
       "      <td>2.000000</td>\n",
       "    </tr>\n",
       "    <tr>\n",
       "      <th>max</th>\n",
       "      <td>60.757544</td>\n",
       "      <td>1.762010</td>\n",
       "      <td>68.000000</td>\n",
       "      <td>32.000000</td>\n",
       "    </tr>\n",
       "  </tbody>\n",
       "</table>\n",
       "</div>"
      ],
      "text/plain": [
       "            Latitude      Longitude  Number_of_Casualties  Number_of_Vehicles\n",
       "count  660654.000000  660653.000000         660679.000000       660679.000000\n",
       "mean       52.553866      -1.431210              1.357040            1.831255\n",
       "std         1.406922       1.383330              0.824847            0.715269\n",
       "min        49.914430      -7.516225              1.000000            1.000000\n",
       "25%        51.490690      -2.332291              1.000000            1.000000\n",
       "50%        52.315641      -1.411667              1.000000            2.000000\n",
       "75%        53.453452      -0.232869              1.000000            2.000000\n",
       "max        60.757544       1.762010             68.000000           32.000000"
      ]
     },
     "execution_count": 6,
     "metadata": {},
     "output_type": "execute_result"
    }
   ],
   "source": [
    "accident.describe()"
   ]
  },
  {
   "cell_type": "code",
   "execution_count": 7,
   "id": "d080c927-5e03-4fda-a77d-7292d22c949c",
   "metadata": {},
   "outputs": [
    {
     "data": {
      "text/plain": [
       "Index                       object\n",
       "Accident_Severity           object\n",
       "Accident Date               object\n",
       "Latitude                   float64\n",
       "Light_Conditions            object\n",
       "District Area               object\n",
       "Longitude                  float64\n",
       "Number_of_Casualties         int64\n",
       "Number_of_Vehicles           int64\n",
       "Road_Surface_Conditions     object\n",
       "Road_Type                   object\n",
       "Urban_or_Rural_Area         object\n",
       "Weather_Conditions          object\n",
       "Vehicle_Type                object\n",
       "dtype: object"
      ]
     },
     "execution_count": 7,
     "metadata": {},
     "output_type": "execute_result"
    }
   ],
   "source": [
    "accident.dtypes"
   ]
  },
  {
   "cell_type": "code",
   "execution_count": 8,
   "id": "ced9ca99-c513-45c3-b722-32ba62e57f64",
   "metadata": {},
   "outputs": [],
   "source": [
    "accident['Latitude']=accident['Latitude'].fillna(accident['Latitude'].mode()[0])\n",
    "accident['Longitude']=accident['Longitude'].fillna(accident['Longitude'].mode()[0])\n",
    "accident['Road_Surface_Conditions']=accident['Road_Surface_Conditions'].fillna(accident['Road_Surface_Conditions'].mode()[0])\n",
    "accident['Road_Type']=accident['Road_Type'].fillna(accident['Road_Type'].mode()[0])\n",
    "accident['Urban_or_Rural_Area']=accident['Urban_or_Rural_Area'].fillna(accident['Urban_or_Rural_Area'].mode()[0])"
   ]
  },
  {
   "cell_type": "code",
   "execution_count": 9,
   "id": "b221a80e-b4e3-4c4d-ab17-b41e58e364b8",
   "metadata": {},
   "outputs": [
    {
     "data": {
      "text/plain": [
       "Index                          0\n",
       "Accident_Severity              0\n",
       "Accident Date                  0\n",
       "Latitude                       0\n",
       "Light_Conditions               0\n",
       "District Area                  0\n",
       "Longitude                      0\n",
       "Number_of_Casualties           0\n",
       "Number_of_Vehicles             0\n",
       "Road_Surface_Conditions        0\n",
       "Road_Type                      0\n",
       "Urban_or_Rural_Area            0\n",
       "Weather_Conditions         14128\n",
       "Vehicle_Type                   0\n",
       "dtype: int64"
      ]
     },
     "execution_count": 9,
     "metadata": {},
     "output_type": "execute_result"
    }
   ],
   "source": [
    "accident.isnull().sum()"
   ]
  },
  {
   "cell_type": "code",
   "execution_count": 10,
   "id": "f2e5b768-eba0-40a3-b416-3256afdcd63f",
   "metadata": {},
   "outputs": [],
   "source": [
    "accident['Accident Data']=pd.to_datetime(accident['Accident Date'],dayfirst= True,errors='coerce')"
   ]
  },
  {
   "cell_type": "code",
   "execution_count": 11,
   "id": "a7a6648d-f056-4bf4-a1dc-07caf75cec96",
   "metadata": {},
   "outputs": [
    {
     "data": {
      "text/plain": [
       "Index                              object\n",
       "Accident_Severity                  object\n",
       "Accident Date                      object\n",
       "Latitude                          float64\n",
       "Light_Conditions                   object\n",
       "District Area                      object\n",
       "Longitude                         float64\n",
       "Number_of_Casualties                int64\n",
       "Number_of_Vehicles                  int64\n",
       "Road_Surface_Conditions            object\n",
       "Road_Type                          object\n",
       "Urban_or_Rural_Area                object\n",
       "Weather_Conditions                 object\n",
       "Vehicle_Type                       object\n",
       "Accident Data              datetime64[ns]\n",
       "dtype: object"
      ]
     },
     "execution_count": 11,
     "metadata": {},
     "output_type": "execute_result"
    }
   ],
   "source": [
    "accident.dtypes"
   ]
  },
  {
   "cell_type": "code",
   "execution_count": 12,
   "id": "f291e7d9-dd3b-4e1c-90c0-8e6099b9b01d",
   "metadata": {},
   "outputs": [
    {
     "data": {
      "text/plain": [
       "Index                           0\n",
       "Accident_Severity               0\n",
       "Accident Date                   0\n",
       "Latitude                        0\n",
       "Light_Conditions                0\n",
       "District Area                   0\n",
       "Longitude                       0\n",
       "Number_of_Casualties            0\n",
       "Number_of_Vehicles              0\n",
       "Road_Surface_Conditions         0\n",
       "Road_Type                       0\n",
       "Urban_or_Rural_Area             0\n",
       "Weather_Conditions              0\n",
       "Vehicle_Type                    0\n",
       "Accident Data              395672\n",
       "dtype: int64"
      ]
     },
     "execution_count": 12,
     "metadata": {},
     "output_type": "execute_result"
    }
   ],
   "source": [
    "accident['Weather_Conditions']=accident['Weather_Conditions'].fillna('unacccounted')\n",
    "accident.isnull().sum()"
   ]
  },
  {
   "cell_type": "markdown",
   "id": "1d958cf8-acc6-4903-9a2b-6ec8be23e107",
   "metadata": {},
   "source": [
    "<h1>What is the distribution of accident severity levels?</h1>"
   ]
  },
  {
   "cell_type": "code",
   "execution_count": 13,
   "id": "19569294-6bd9-49c2-9181-181f532cf4fb",
   "metadata": {},
   "outputs": [
    {
     "data": {
      "text/plain": [
       "Accident_Severity\n",
       "Slight     563801\n",
       "Serious     88217\n",
       "Fatal        8661\n",
       "Name: count, dtype: int64"
      ]
     },
     "execution_count": 13,
     "metadata": {},
     "output_type": "execute_result"
    }
   ],
   "source": [
    "severity_distribution = accident['Accident_Severity'].value_counts()\n",
    "severity_distribution\n"
   ]
  },
  {
   "cell_type": "markdown",
   "id": "5c6a9d3d-71be-49b9-9b13-31091540e4b6",
   "metadata": {},
   "source": [
    "<h1>Insight 1 Accidents are predominantly of a 'Slight' nature: A significant majority, approximately 86.5% of the accidents (563,801 out of 651,679 total accidents), fall under the 'Slight' category, indicating that most incidents result in minor injuries or damages.</h1>"
   ]
  },
  {
   "cell_type": "markdown",
   "id": "adc8f6c6-5007-4b45-91a6-99c870d2b13a",
   "metadata": {},
   "source": [
    "<h1>Inisght 1.1 Severe accidents (Serious and Fatal combined) make up a smaller proportion: Together, 'Serious' and 'Fatal' accidents account for roughly 13.5% of all cases, with 'Serious' accidents being about 13.5% and 'Fatal' incidents only 1.3%. This highlights that while severe cases are less common, they still represent a notable concern for safety improvements.</h1>"
   ]
  },
  {
   "cell_type": "markdown",
   "id": "aec3d3ef-d413-4d5b-9d93-79673b2d945d",
   "metadata": {},
   "source": [
    "<h1>Q2 How frequently do accidents occur in urban versus rural areas?</h1>"
   ]
  },
  {
   "cell_type": "code",
   "execution_count": 14,
   "id": "7c43a35a-f5ed-46a7-bcf8-2f7fb3d63cc7",
   "metadata": {},
   "outputs": [
    {
     "data": {
      "text/plain": [
       "Urban_or_Rural_Area\n",
       "Urban          421678\n",
       "Rural          238990\n",
       "Unallocated        11\n",
       "Name: count, dtype: int64"
      ]
     },
     "execution_count": 14,
     "metadata": {},
     "output_type": "execute_result"
    }
   ],
   "source": [
    "urban_rural_distribution = accident['Urban_or_Rural_Area'].value_counts()\n",
    "urban_rural_distribution\n"
   ]
  },
  {
   "cell_type": "markdown",
   "id": "00d6968f-744d-4943-9b23-55155b470770",
   "metadata": {},
   "source": [
    "<h1>Insight 2 Accidents are significantly more frequent in urban areas. Approximately 64% of the reported accidents (421,678 out of 660,679 total) occur in urban settings compared to 36% in rural areas. This suggests that the higher population density, increased traffic, and more complex road networks in urban regions contribute to the elevated number of incidents.</h1>"
   ]
  },
  {
   "cell_type": "markdown",
   "id": "0ee92b38-235a-4acf-8385-9db69b8a4256",
   "metadata": {},
   "source": [
    "<h1>Q3   Average Number of Casualties for Day Light Conditions</h1>"
   ]
  },
  {
   "cell_type": "code",
   "execution_count": 15,
   "id": "191e75ab-0749-46cc-a072-c100ef08ac48",
   "metadata": {},
   "outputs": [
    {
     "data": {
      "text/plain": [
       "Weather_Conditions\n",
       "Fine no high winds       520885\n",
       "Raining no high winds     79696\n",
       "Other                     17150\n",
       "unacccounted              14128\n",
       "Raining + high winds       9615\n",
       "Fine + high winds          8554\n",
       "Snowing no high winds      6238\n",
       "Fog or mist                3528\n",
       "Snowing + high winds        885\n",
       "Name: count, dtype: int64"
      ]
     },
     "execution_count": 15,
     "metadata": {},
     "output_type": "execute_result"
    }
   ],
   "source": [
    "weather_distribution = accident['Weather_Conditions'].value_counts()\n",
    "weather_distribution\n",
    "\n",
    "\n"
   ]
  },
  {
   "cell_type": "markdown",
   "id": "d9a558b1-9b11-4c3a-9a09-47f2530b4fa6",
   "metadata": {},
   "source": [
    "<h1>Insight 3 Clear weather accounts for the highest number of casualties: \"Fine no high winds\" conditions overwhelmingly dominate the figures, with 520,885 casualties. This suggests that good weather, while generally safer, also coincides with higher traffic volumes and potentially riskier behaviors, contributing to the majority of incidents.</h1>"
   ]
  },
  {
   "cell_type": "markdown",
   "id": "4e37059c-53af-434e-a42d-652fda716354",
   "metadata": {},
   "source": [
    "<h1>Q4   What is the average number of casualties per accident?</h1>"
   ]
  },
  {
   "cell_type": "code",
   "execution_count": 16,
   "id": "e23819cc-965e-4cfe-903f-473866df07ee",
   "metadata": {},
   "outputs": [
    {
     "data": {
      "text/plain": [
       "np.float64(1.357040257068864)"
      ]
     },
     "execution_count": 16,
     "metadata": {},
     "output_type": "execute_result"
    }
   ],
   "source": [
    "average_casualties = accident['Number_of_Casualties'].mean()\n",
    "average_casualties\n"
   ]
  },
  {
   "cell_type": "markdown",
   "id": "5db5f747-187a-4c2c-a328-ae97494f4f50",
   "metadata": {},
   "source": [
    "<h1>Insight 4   On average, there are approximately 1.36 casualties per accident. This indicates that most accidents tend to involve a single individual, but a notable number of incidents likely involve multiple casualties, highlighting the potential severity of many situations.</h1>"
   ]
  },
  {
   "cell_type": "markdown",
   "id": "e6c936d5-54bd-4c2b-820d-be2fb810ebe9",
   "metadata": {},
   "source": [
    "<h1>Q5 How frequently do accidents occur under different light conditions?</h1>"
   ]
  },
  {
   "cell_type": "code",
   "execution_count": 17,
   "id": "ab8272bd-061b-4d45-b830-503d8cf033fc",
   "metadata": {},
   "outputs": [
    {
     "data": {
      "text/plain": [
       "Light_Conditions\n",
       "Daylight                       484880\n",
       "Darkness - lights lit          129335\n",
       "Darkness - no lighting          37437\n",
       "Darkness - lighting unknown      6484\n",
       "Darkness - lights unlit          2543\n",
       "Name: count, dtype: int64"
      ]
     },
     "execution_count": 17,
     "metadata": {},
     "output_type": "execute_result"
    }
   ],
   "source": [
    "light_conditions_distribution = accident['Light_Conditions'].value_counts()\n",
    "light_conditions_distribution\n"
   ]
  },
  {
   "cell_type": "markdown",
   "id": "0892d8ab-349c-471b-ad66-be5893993a4e",
   "metadata": {},
   "source": [
    "<h1>Insight 5   This will show how often accidents occur in daylight or darkness.</h1>"
   ]
  },
  {
   "cell_type": "markdown",
   "id": "42fd8d11-4f4d-4bf0-8d02-d082df91f9cd",
   "metadata": {},
   "source": [
    "<h1>Q6  How does light condition affect the number of casualties in accidents?</h1>"
   ]
  },
  {
   "cell_type": "code",
   "execution_count": 18,
   "id": "a56646bd-92b1-4c9f-9b95-d015e305575a",
   "metadata": {},
   "outputs": [
    {
     "data": {
      "text/plain": [
       "Light_Conditions\n",
       "Darkness - lighting unknown    1.306447\n",
       "Darkness - lights lit          1.369374\n",
       "Darkness - lights unlit        1.331105\n",
       "Darkness - no lighting         1.541657\n",
       "Daylight                       1.340309\n",
       "Name: Number_of_Casualties, dtype: float64"
      ]
     },
     "execution_count": 18,
     "metadata": {},
     "output_type": "execute_result"
    }
   ],
   "source": [
    "light_casualties = accident.groupby('Light_Conditions')['Number_of_Casualties'].mean()\n",
    "light_casualties "
   ]
  },
  {
   "cell_type": "markdown",
   "id": "ab351c39-f672-4a39-81af-d05029049573",
   "metadata": {},
   "source": [
    "<h1>Insight 6  Poor lighting conditions increase the number of casualties per accident. For instance, accidents in \"Darkness - no lighting\" have the highest average casualties at 1.54, indicating that the absence of lighting greatly exacerbates the severity of accidents.</h1>"
   ]
  },
  {
   "cell_type": "markdown",
   "id": "684a8063-e0f5-48ac-af40-c167063f9744",
   "metadata": {},
   "source": [
    "<h1>Q7  How do road surface conditions affect the number of vehicles involved in accidents?</h1>"
   ]
  },
  {
   "cell_type": "code",
   "execution_count": 19,
   "id": "8f1e424f-6811-4435-a4ba-f086e7f4b663",
   "metadata": {},
   "outputs": [
    {
     "data": {
      "text/plain": [
       "Road_Surface_Conditions\n",
       "Dry                     1.841631\n",
       "Flood over 3cm. deep    1.610619\n",
       "Frost or ice            1.640006\n",
       "Snow                    1.746859\n",
       "Wet or damp             1.829161\n",
       "Name: Number_of_Vehicles, dtype: float64"
      ]
     },
     "execution_count": 19,
     "metadata": {},
     "output_type": "execute_result"
    }
   ],
   "source": [
    "surface_vehicles = accident.groupby('Road_Surface_Conditions')['Number_of_Vehicles'].mean()\n",
    "surface_vehicles"
   ]
  },
  {
   "cell_type": "markdown",
   "id": "bf6c6cdb-df93-4dcc-8c97-57095e826067",
   "metadata": {},
   "source": [
    "<h1>Insight7  Dry and wet/damp conditions have the highest average number of vehicles involved in accidents, which suggests that while adverse conditions like snow, ice, and floods cause cautious driving, they still present significant risks.</h1>"
   ]
  },
  {
   "cell_type": "markdown",
   "id": "6bec6d85-a720-43bf-95dd-3b7afc6d9bc6",
   "metadata": {},
   "source": [
    "<h1>Q8  How frequently do accidents occur on different road types</h1>"
   ]
  },
  {
   "cell_type": "code",
   "execution_count": 20,
   "id": "1c8913d5-3c1a-4ce0-b52b-1531239b7091",
   "metadata": {},
   "outputs": [
    {
     "data": {
      "text/plain": [
       "Road_Type\n",
       "Single carriageway    496663\n",
       "Dual carriageway       99424\n",
       "Roundabout             43992\n",
       "One way street         13559\n",
       "Slip road               7041\n",
       "Name: count, dtype: int64"
      ]
     },
     "execution_count": 20,
     "metadata": {},
     "output_type": "execute_result"
    }
   ],
   "source": [
    "road_type_distribution = accident['Road_Type'].value_counts()\n",
    "road_type_distribution\n",
    "\n"
   ]
  },
  {
   "cell_type": "markdown",
   "id": "a3136c98-d7c8-4778-80e6-a8836cf6648f",
   "metadata": {},
   "source": [
    "<h1>Insight 8.1  Single carriageways are by far the most accident-prone road type with 496,663 incidents recorded. This significantly surpasses all other road types combined, indicating that single carriageways may present unique safety challenges, such as narrower lanes, mixed traffic, or higher speeds in some areas.</h1>"
   ]
  },
  {
   "cell_type": "markdown",
   "id": "4c71fdc1-1254-4845-bd1b-d7167fb1099e",
   "metadata": {},
   "source": [
    "<h1>Insight 8.2 Slip roads have the fewest accidents at just 704 recorded incidents. This suggests they might be relatively safer due to their specific design, which often includes controlled access and slower speeds compared to other road types.</h1>"
   ]
  },
  {
   "cell_type": "markdown",
   "id": "46840af6-5b90-424d-8e97-c98996c2577a",
   "metadata": {},
   "source": [
    "<h1>Q9 What is the most common vehicle type involved in accidents?</h1>"
   ]
  },
  {
   "cell_type": "code",
   "execution_count": 32,
   "id": "240be522-5ba7-47ab-8cd7-23f5bcf44d8a",
   "metadata": {},
   "outputs": [
    {
     "data": {
      "text/plain": [
       "Vehicle_Type\n",
       "Car                                      497992\n",
       "Van / Goods 3.5 tonnes mgw or under       34160\n",
       "Bus or coach (17 or more pass seats)      25878\n",
       "Motorcycle over 500cc                     25657\n",
       "Goods 7.5 tonnes mgw and over             17307\n",
       "Motorcycle 125cc and under                15269\n",
       "Taxi/Private hire car                     13294\n",
       "Motorcycle over 125cc and up to 500cc      7656\n",
       "Motorcycle 50cc and under                  7603\n",
       "Goods over 3.5t. and under 7.5t            6096\n",
       "Other vehicle                              5637\n",
       "Minibus (8 - 16 passenger seats)           1976\n",
       "Agricultural vehicle                       1947\n",
       "Pedal cycle                                 197\n",
       "Data missing or out of range                  6\n",
       "Ridden horse                                  4\n",
       "Name: count, dtype: int64"
      ]
     },
     "execution_count": 32,
     "metadata": {},
     "output_type": "execute_result"
    }
   ],
   "source": [
    "vehicle_type_distribution = accident['Vehicle_Type'].value_counts()\n",
    "vehicle_type_distribution\n"
   ]
  },
  {
   "cell_type": "markdown",
   "id": "e82cd90c-19bd-40d9-a4bd-de21fa0a84bf",
   "metadata": {},
   "source": [
    "<h1>Insight 9.1 Cars dominate accident involvement, with 497,992 cases, accounting for the vast majority. This isn't surprising given cars are likely the most common mode of transportation, but it also highlights their significant contribution to road incidents.</h1>"
   ]
  },
  {
   "cell_type": "markdown",
   "id": "e76f7077-aa00-4ef2-8322-d133e2209ee0",
   "metadata": {},
   "source": [
    "<h1>Insight 9.2 Vans and light goods vehicles are the second-most frequent vehicle type involved, with 34,160 incidents, far below cars but still notable. This may be due to their regular use in delivery and logistics, increasing their exposure on the roads</h1>"
   ]
  },
  {
   "cell_type": "markdown",
   "id": "b1f3f865-6d61-40f2-9234-120a75650d6f",
   "metadata": {},
   "source": [
    "<h1>Insight 9.3 Motorcycles show varying levels of involvement based on engine size, with larger motorcycles (over 500cc) involved in 25,657 accidents, while smaller motorcycles (50cc and under) only account for 7,603 incidents. This trend may be related to differences in speed, usage patterns, or rider demographics.</h1>"
   ]
  },
  {
   "cell_type": "markdown",
   "id": "ad8e538e-1714-452f-ac11-c75430f4127d",
   "metadata": {},
   "source": [
    "<h1>Q10  How many accidents occur in each district area?</h1>"
   ]
  },
  {
   "cell_type": "code",
   "execution_count": 22,
   "id": "f598f670-89c6-4605-ad7e-d5eabd267266",
   "metadata": {},
   "outputs": [
    {
     "data": {
      "text/plain": [
       "District Area\n",
       "Birmingham            13491\n",
       "Leeds                  8898\n",
       "Manchester             6720\n",
       "Bradford               6212\n",
       "Sheffield              5710\n",
       "                      ...  \n",
       "Berwick-upon-Tweed      153\n",
       "Teesdale                142\n",
       "Shetland Islands        133\n",
       "Orkney Islands          117\n",
       "Clackmannanshire         91\n",
       "Name: count, Length: 422, dtype: int64"
      ]
     },
     "execution_count": 22,
     "metadata": {},
     "output_type": "execute_result"
    }
   ],
   "source": [
    "district_area_distribution = accident['District Area'].value_counts()\n",
    "district_area_distribution\n"
   ]
  },
  {
   "cell_type": "markdown",
   "id": "cfa4711a-8c26-46b8-856f-dc9491f94ff8",
   "metadata": {},
   "source": [
    "<h1>Insight 10  This will show the number of accidents in different district areas.</h1>"
   ]
  },
  {
   "cell_type": "markdown",
   "id": "94fdeab6-6494-403b-b85d-61db8f66d48b",
   "metadata": {},
   "source": [
    "<h1>Q11 What is the correlation between road surface conditions and the number of vehicles involved?</h1>"
   ]
  },
  {
   "cell_type": "code",
   "execution_count": 23,
   "id": "819780f5-b19c-40d5-9b54-e3974b79ecf0",
   "metadata": {},
   "outputs": [
    {
     "data": {
      "text/plain": [
       "Urban_or_Rural_Area\n",
       "Rural          1.479204\n",
       "Unallocated    1.181818\n",
       "Urban          1.287807\n",
       "Name: Number_of_Casualties, dtype: float64"
      ]
     },
     "execution_count": 23,
     "metadata": {},
     "output_type": "execute_result"
    }
   ],
   "source": [
    "urban_casualties = accident.groupby('Urban_or_Rural_Area')['Number_of_Casualties'].mean()\n",
    "urban_casualties"
   ]
  },
  {
   "cell_type": "markdown",
   "id": "fb3d1e5b-3283-441c-abab-84cefbbac637",
   "metadata": {},
   "source": [
    "<h1>Insight 11  Rural road surface conditions show the highest correlation (1.479204) with the number of vehicles involved in accidents, compared to urban areas (1.287807) and unallocated conditions (1.181818). This suggests that rural environments may pose unique challenges, such as higher speeds, less lighting, or varying maintenance levels, which could contribute to a greater likelihood of accidents involving multiple vehicles.</h1>"
   ]
  },
  {
   "cell_type": "markdown",
   "id": "020a75fb-5e06-4f69-8bc1-0f5e8d0f31de",
   "metadata": {},
   "source": [
    "<h1>Q12 How frequently do accidents occur on different days of the week?</h1>"
   ]
  },
  {
   "cell_type": "code",
   "execution_count": 24,
   "id": "aafda7b9-b0f8-4a9d-acec-80ef9c0723fa",
   "metadata": {},
   "outputs": [
    {
     "data": {
      "text/plain": [
       "Day_of_Week\n",
       "Saturday     43164\n",
       "Wednesday    40037\n",
       "Friday       39822\n",
       "Thursday     39641\n",
       "Tuesday      38714\n",
       "Sunday       35065\n",
       "Monday       28564\n",
       "Name: count, dtype: int64"
      ]
     },
     "execution_count": 24,
     "metadata": {},
     "output_type": "execute_result"
    }
   ],
   "source": [
    "accident['Accident Date'] = pd.to_datetime(accident['Accident Date'], dayfirst=True, errors='coerce')\n",
    "accident['Day_of_Week'] = accident['Accident Date'].dt.day_name()\n",
    "day_of_week_distribution = accident['Day_of_Week'].value_counts()\n",
    "day_of_week_distribution\n"
   ]
  },
  {
   "cell_type": "markdown",
   "id": "e65496f7-9ebf-4e0f-8866-fc4fd764975c",
   "metadata": {},
   "source": [
    "<h1>Insight12.1 Saturday has the highest number of accidents (43,164), followed closely by Wednesday (40,037). This could indicate that Saturdays, being part of the weekend, may involve more leisure travel or higher vehicle volume, potentially contributing to a higher accident rate.</h1>"
   ]
  },
  {
   "cell_type": "markdown",
   "id": "00b1897f-6b71-46e4-8eee-6250eab7ecbd",
   "metadata": {},
   "source": [
    "<h1>Insight12.2 Monday sees the fewest accidents (28,564), significantly lower than other days of the week. This might be attributed to more structured weekday routines and potentially less non-essential travel compared to weekends.</h1>"
   ]
  },
  {
   "cell_type": "markdown",
   "id": "430c0c9f-7586-4bb9-8d9e-b2545fe907b7",
   "metadata": {},
   "source": [
    "<h1>Q13 How are accident dates distributed across the months?</h1>"
   ]
  },
  {
   "cell_type": "code",
   "execution_count": 25,
   "id": "2f8197de-dc61-4deb-9fe7-9da7b53ba650",
   "metadata": {},
   "outputs": [
    {
     "data": {
      "text/plain": [
       "Month\n",
       "11.0    24240\n",
       "12.0    24156\n",
       "10.0    23962\n",
       "7.0     22939\n",
       "9.0     22558\n",
       "2.0     22264\n",
       "6.0     22196\n",
       "3.0     21824\n",
       "5.0     21723\n",
       "8.0     21106\n",
       "4.0     19787\n",
       "1.0     18252\n",
       "Name: count, dtype: int64"
      ]
     },
     "execution_count": 25,
     "metadata": {},
     "output_type": "execute_result"
    }
   ],
   "source": [
    "accident['Month'] = accident['Accident Date'].dt.month\n",
    "month_distribution = accident['Month'].value_counts()\n",
    "month_distribution\n"
   ]
  },
  {
   "cell_type": "markdown",
   "id": "d7455f80-668b-4acb-9a65-8ee612ecea56",
   "metadata": {},
   "source": [
    "<h1>Insight13 This will reveal if certain months have higher accident rates, possibly due to weather or seasonal variations.</h1>"
   ]
  },
  {
   "cell_type": "markdown",
   "id": "5cfff4ba-bbb1-4ff1-b91d-996ef6b4cdb5",
   "metadata": {},
   "source": [
    "<h1>How do road surface conditions vary between urban and rural areas?</h1>"
   ]
  },
  {
   "cell_type": "code",
   "execution_count": 26,
   "id": "9ac7f882-593a-4293-b0f5-25fbd0c2c8a6",
   "metadata": {},
   "outputs": [
    {
     "data": {
      "text/html": [
       "<div>\n",
       "<style scoped>\n",
       "    .dataframe tbody tr th:only-of-type {\n",
       "        vertical-align: middle;\n",
       "    }\n",
       "\n",
       "    .dataframe tbody tr th {\n",
       "        vertical-align: top;\n",
       "    }\n",
       "\n",
       "    .dataframe thead th {\n",
       "        text-align: right;\n",
       "    }\n",
       "</style>\n",
       "<table border=\"1\" class=\"dataframe\">\n",
       "  <thead>\n",
       "    <tr style=\"text-align: right;\">\n",
       "      <th>Road_Surface_Conditions</th>\n",
       "      <th>Dry</th>\n",
       "      <th>Flood over 3cm. deep</th>\n",
       "      <th>Frost or ice</th>\n",
       "      <th>Snow</th>\n",
       "      <th>Wet or damp</th>\n",
       "    </tr>\n",
       "    <tr>\n",
       "      <th>Urban_or_Rural_Area</th>\n",
       "      <th></th>\n",
       "      <th></th>\n",
       "      <th></th>\n",
       "      <th></th>\n",
       "      <th></th>\n",
       "    </tr>\n",
       "  </thead>\n",
       "  <tbody>\n",
       "    <tr>\n",
       "      <th>Rural</th>\n",
       "      <td>145145</td>\n",
       "      <td>785</td>\n",
       "      <td>10953</td>\n",
       "      <td>3102</td>\n",
       "      <td>79005</td>\n",
       "    </tr>\n",
       "    <tr>\n",
       "      <th>Unallocated</th>\n",
       "      <td>5</td>\n",
       "      <td>1</td>\n",
       "      <td>0</td>\n",
       "      <td>0</td>\n",
       "      <td>5</td>\n",
       "    </tr>\n",
       "    <tr>\n",
       "      <th>Urban</th>\n",
       "      <td>303397</td>\n",
       "      <td>231</td>\n",
       "      <td>7564</td>\n",
       "      <td>2788</td>\n",
       "      <td>107698</td>\n",
       "    </tr>\n",
       "  </tbody>\n",
       "</table>\n",
       "</div>"
      ],
      "text/plain": [
       "Road_Surface_Conditions     Dry  Flood over 3cm. deep  Frost or ice  Snow  \\\n",
       "Urban_or_Rural_Area                                                         \n",
       "Rural                    145145                   785         10953  3102   \n",
       "Unallocated                   5                     1             0     0   \n",
       "Urban                    303397                   231          7564  2788   \n",
       "\n",
       "Road_Surface_Conditions  Wet or damp  \n",
       "Urban_or_Rural_Area                   \n",
       "Rural                          79005  \n",
       "Unallocated                        5  \n",
       "Urban                         107698  "
      ]
     },
     "execution_count": 26,
     "metadata": {},
     "output_type": "execute_result"
    }
   ],
   "source": [
    "urban_surface_conditions = pd.crosstab(accident['Urban_or_Rural_Area'], accident['Road_Surface_Conditions'])\n",
    "urban_surface_conditions\n"
   ]
  },
  {
   "cell_type": "markdown",
   "id": "f9ec6c4d-ad5c-494c-9f6b-2c6a32e2da6c",
   "metadata": {},
   "source": [
    "<h1>This will show if certain surface conditions are more prevalent in urban or rural settings.</h1>"
   ]
  },
  {
   "cell_type": "markdown",
   "id": "1532800f-9f8d-46ea-b2cb-20104322e0ef",
   "metadata": {},
   "source": [
    "<h1>Q15 What is the average number of vehicles involved in accidents for each district area?</h1>"
   ]
  },
  {
   "cell_type": "code",
   "execution_count": 27,
   "id": "12aa7478-0299-40ed-b9e3-d47e3e6dafd4",
   "metadata": {},
   "outputs": [
    {
     "data": {
      "text/plain": [
       "District Area\n",
       "Aberdeen City    1.637188\n",
       "Aberdeenshire    1.553368\n",
       "Adur             1.969305\n",
       "Allerdale        1.782801\n",
       "Alnwick          1.646552\n",
       "                   ...   \n",
       "Wychavon         1.828068\n",
       "Wycombe          1.866397\n",
       "Wyre             1.860258\n",
       "Wyre Forest      1.789474\n",
       "York             1.856089\n",
       "Name: Number_of_Vehicles, Length: 422, dtype: float64"
      ]
     },
     "execution_count": 27,
     "metadata": {},
     "output_type": "execute_result"
    }
   ],
   "source": [
    "district_vehicles = accident.groupby('District Area')['Number_of_Vehicles'].mean()\n",
    "district_vehicles\n",
    "\n"
   ]
  },
  {
   "cell_type": "markdown",
   "id": "b58f635d-3f1b-4912-b7db-85fb8c0ec688",
   "metadata": {},
   "source": [
    "<h1>Insight 15 This will reveal if certain district areas have a higher average number of vehicles involved in accidents.</h1>"
   ]
  },
  {
   "cell_type": "markdown",
   "id": "41644d4f-1403-4aee-988b-04f8e631b0e2",
   "metadata": {},
   "source": [
    "<h1>Q16 What is the relationship between road type, weather conditions, and the number of casualties?</h1>"
   ]
  },
  {
   "cell_type": "code",
   "execution_count": 30,
   "id": "ab70ce2c-986b-4ded-aea8-3c8d2b423259",
   "metadata": {},
   "outputs": [
    {
     "data": {
      "text/plain": [
       "Road_Type           Weather_Conditions   \n",
       "Dual carriageway    Fine + high winds        1.442396\n",
       "                    Fine no high winds       1.477963\n",
       "                    Fog or mist              1.665689\n",
       "                    Other                    1.433746\n",
       "                    Raining + high winds     1.475652\n",
       "                    Raining no high winds    1.502453\n",
       "                    Snowing + high winds     1.389189\n",
       "                    Snowing no high winds    1.399020\n",
       "                    unacccounted             1.330494\n",
       "One way street      Fine + high winds        1.183544\n",
       "                    Fine no high winds       1.185132\n",
       "                    Fog or mist              1.241379\n",
       "                    Other                    1.233010\n",
       "                    Raining + high winds     1.307190\n",
       "                    Raining no high winds    1.242127\n",
       "                    Snowing + high winds     1.071429\n",
       "                    Snowing no high winds    1.230769\n",
       "                    unacccounted             1.138554\n",
       "Roundabout          Fine + high winds        1.333333\n",
       "                    Fine no high winds       1.272536\n",
       "                    Fog or mist              1.319820\n",
       "                    Other                    1.269612\n",
       "                    Raining + high winds     1.253996\n",
       "                    Raining no high winds    1.292500\n",
       "                    Snowing + high winds     1.533333\n",
       "                    Snowing no high winds    1.317241\n",
       "                    unacccounted             1.228758\n",
       "Single carriageway  Fine + high winds        1.382466\n",
       "                    Fine no high winds       1.336057\n",
       "                    Fog or mist              1.411007\n",
       "                    Other                    1.350015\n",
       "                    Raining + high winds     1.414706\n",
       "                    Raining no high winds    1.400807\n",
       "                    Snowing + high winds     1.430341\n",
       "                    Snowing no high winds    1.334449\n",
       "                    unacccounted             1.220482\n",
       "Slip road           Fine + high winds        1.357798\n",
       "                    Fine no high winds       1.421014\n",
       "                    Fog or mist              1.393939\n",
       "                    Other                    1.455556\n",
       "                    Raining + high winds     1.429907\n",
       "                    Raining no high winds    1.482081\n",
       "                    Snowing + high winds     1.300000\n",
       "                    Snowing no high winds    1.231884\n",
       "                    unacccounted             1.290541\n",
       "Name: Number_of_Casualties, dtype: float64"
      ]
     },
     "execution_count": 30,
     "metadata": {},
     "output_type": "execute_result"
    }
   ],
   "source": [
    "q16=accident.groupby(['Road_Type', 'Weather_Conditions'])['Number_of_Casualties'].mean()\n",
    "q16\n",
    "\n",
    "\n"
   ]
  },
  {
   "cell_type": "markdown",
   "id": "aa5d9b16-890c-48c5-9faa-0e75d3da6479",
   "metadata": {},
   "source": [
    "<h1>Insight 16.1 Weather conditions significantly influence accident risks across all road types, with certain combinations amplifying dangers. For example, fog or mist consistently correlates with higher casualty rates on various road types, particularly on dual carriageways (1.665689). This suggests that adverse weather conditions, especially those impairing visibility, play a critical role in increasing the likelihood of accidents with casualties, regardless of the road type.</h1>"
   ]
  },
  {
   "cell_type": "markdown",
   "id": "f207652f-1c11-4a23-9637-44d2334e0d35",
   "metadata": {},
   "source": [
    "<h1>Insight 16.2 Complex road designs coupled with severe weather conditions create challenging driving environments. For instance, roundabouts show high correlations with casualties during snowing with high winds (1.533333). This highlights how weather factors combined with intricate navigation requirements can exacerbate accident risks, emphasizing the need for heightened caution and perhaps better infrastructure planning for such conditions.</h1>"
   ]
  },
  {
   "cell_type": "code",
   "execution_count": null,
   "id": "6fc83f79-3c8b-4ad5-9d26-5b55df9fc24d",
   "metadata": {},
   "outputs": [],
   "source": []
  },
  {
   "cell_type": "code",
   "execution_count": null,
   "id": "baba466c-fb5b-46fa-971c-7efe58e080ae",
   "metadata": {},
   "outputs": [],
   "source": []
  }
 ],
 "metadata": {
  "kernelspec": {
   "display_name": "Python 3 (ipykernel)",
   "language": "python",
   "name": "python3"
  },
  "language_info": {
   "codemirror_mode": {
    "name": "ipython",
    "version": 3
   },
   "file_extension": ".py",
   "mimetype": "text/x-python",
   "name": "python",
   "nbconvert_exporter": "python",
   "pygments_lexer": "ipython3",
   "version": "3.13.2"
  }
 },
 "nbformat": 4,
 "nbformat_minor": 5
}
